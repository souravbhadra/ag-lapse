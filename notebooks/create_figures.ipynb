{
 "cells": [
  {
   "cell_type": "code",
   "execution_count": 1,
   "metadata": {},
   "outputs": [],
   "source": [
    "import os\n",
    "import geopandas as gpd\n",
    "import pandas as pd\n",
    "import numpy as np\n",
    "import matplotlib.pyplot as plt"
   ]
  },
  {
   "cell_type": "code",
   "execution_count": 2,
   "metadata": {},
   "outputs": [],
   "source": [
    "%matplotlib agg"
   ]
  },
  {
   "cell_type": "code",
   "execution_count": 3,
   "metadata": {},
   "outputs": [],
   "source": [
    "df = pd.read_csv('/Users/sbhadra/ag-lapse/data/ag-data.csv',\n",
    "                 index_col=0,\n",
    "                 parse_dates=['Year'])"
   ]
  },
  {
   "cell_type": "code",
   "execution_count": 4,
   "metadata": {},
   "outputs": [],
   "source": [
    "def create_plots(df, crop, trait):\n",
    "    \n",
    "    df = df[df['Commodity'] == crop]\n",
    "    df = df[['Year', 'Id', 'County', 'State', trait]]\n",
    "    df = df.dropna()\n",
    "    \n",
    "    out_dir = r'/Users/sbhadra/ag-lapse/data/figures'\n",
    "    \n",
    "    #os.makedirs(os.path.join(out_dir, f'{crop}-{trait}'), exist_ok=True)\n",
    "    \n",
    "    for idx in np.unique(df['Id']):\n",
    "        \n",
    "        value_df = df[df['Id']==idx]\n",
    "        value_df = value_df.set_index('Year')\n",
    "        values = value_df[trait]\n",
    "        \n",
    "        county = value_df.iloc[0, -3]\n",
    "        state = value_df.iloc[0, -2]\n",
    "        \n",
    "        fig, ax = plt.subplots(1,1, figsize=(4, 2), dpi=75)\n",
    "        \n",
    "        ax.plot(values, color='red')\n",
    "        if trait == 'Yield':\n",
    "            ax.set_ylabel(f'{trait} (Bu/Acre)')\n",
    "        else:\n",
    "            ax.set_ylabel(f'{trait} (Acres)')\n",
    "        ax.set_xlabel('Year')\n",
    "        ax.text(0.04, 0.96, f\"{county}, {state}\",\n",
    "                ha='left', va='top', transform=ax.transAxes, fontsize=11)\n",
    "        out_path = os.path.join(out_dir, f'{crop}-{trait}-{idx}.png')\n",
    "        fig.savefig(out_path, dpi=75, bbox_inches='tight')\n",
    "        plt.close()"
   ]
  },
  {
   "cell_type": "code",
   "execution_count": 5,
   "metadata": {},
   "outputs": [],
   "source": [
    "crops = ['CORN', 'SOYBEANS', 'OATS', 'BARLEY']\n",
    "traits = ['Yield', 'Harvested', 'Planted']"
   ]
  },
  {
   "cell_type": "code",
   "execution_count": 6,
   "metadata": {},
   "outputs": [
    {
     "name": "stdout",
     "output_type": "stream",
     "text": [
      "CORN Yield\n",
      "CORN Harvested\n",
      "CORN Planted\n",
      "SOYBEANS Yield\n",
      "SOYBEANS Harvested\n",
      "SOYBEANS Planted\n",
      "OATS Yield\n",
      "OATS Harvested\n",
      "OATS Planted\n",
      "BARLEY Yield\n",
      "BARLEY Harvested\n",
      "BARLEY Planted\n"
     ]
    }
   ],
   "source": [
    "for crop in crops:\n",
    "    for trait in traits:\n",
    "        create_plots(df, crop, trait)\n",
    "        print(crop, trait)"
   ]
  },
  {
   "cell_type": "code",
   "execution_count": null,
   "metadata": {},
   "outputs": [],
   "source": [
    "df"
   ]
  },
  {
   "cell_type": "code",
   "execution_count": null,
   "metadata": {},
   "outputs": [],
   "source": [
    "for idx in np.unique(df['Id']):\n",
    "    df = df[df['Id']==idx]\n",
    "    break"
   ]
  },
  {
   "cell_type": "code",
   "execution_count": null,
   "metadata": {},
   "outputs": [],
   "source": [
    "plt.plot(df.set_index('Year')['Yield'])"
   ]
  },
  {
   "cell_type": "code",
   "execution_count": null,
   "metadata": {},
   "outputs": [],
   "source": [
    "df"
   ]
  },
  {
   "cell_type": "code",
   "execution_count": null,
   "metadata": {},
   "outputs": [],
   "source": []
  }
 ],
 "metadata": {
  "kernelspec": {
   "display_name": "Python 3.9.13 ('aglapse')",
   "language": "python",
   "name": "python3"
  },
  "language_info": {
   "codemirror_mode": {
    "name": "ipython",
    "version": 3
   },
   "file_extension": ".py",
   "mimetype": "text/x-python",
   "name": "python",
   "nbconvert_exporter": "python",
   "pygments_lexer": "ipython3",
   "version": "3.9.13"
  },
  "orig_nbformat": 4,
  "vscode": {
   "interpreter": {
    "hash": "b028226d095a73058c593a4f5bbe823106247b53e1f943a544d6159906953ff9"
   }
  }
 },
 "nbformat": 4,
 "nbformat_minor": 2
}
